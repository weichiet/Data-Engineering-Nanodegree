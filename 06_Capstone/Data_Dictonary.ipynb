{
 "cells": [
  {
   "cell_type": "markdown",
   "metadata": {},
   "source": [
    "## Data Model\n",
    "<img src=\"data_model.png\">"
   ]
  },
  {
   "cell_type": "markdown",
   "metadata": {},
   "source": [
    "## Immigrations Table\n",
    "\n",
    "| Columns        | Type         | Attributes \n",
    "| ------------- |:-------------:|:-------------:|\n",
    "|**cicid**| BIGINT| Primary key, ID for the immigration record\n",
    "|year| INT | Year of immigration\n",
    "|month| INT | Month of immigration\n",
    "|city| INT |  Source city of immigration\n",
    "|country| INT|  Source country of immigration\n",
    "|port| VARCHAR| Port addmitted through\n",
    "|arrival_date| DATE| Date of arrival\n",
    "|arrival_mode| INT| Mode of arrival\n",
    "|state| VARCHAR| State of arrival\n",
    "|departure_date| DATE| Date of departure\n",
    "|age| INT| Age in years \n",
    "|visa_code| INT| Visa category\n",
    "|count| INT| Used for summary statistics\n",
    "|date| VARCHAR| Date field in YYYYMMDD characters format\n",
    "|visa_post| VARCHAR  | Department of State where where Visa was issued     \n",
    "|occupation| VARCHAR| Occupation that will be performed in U.S.\n",
    "|arrival_flag| VARCHAR| Arrival flag - whether admitted or paroled into the U.S.\n",
    "|departure_flag| VARCHAR| Departure flag - whether departed, lost I-94 or is deceased\n",
    "|update_flag| VARCHAR| Update flag, either apprehended, overstayed, adjusted to perm residence\n",
    "|match_flag| VARCHAR| Match flag, match of arrival and departure records\n",
    "|birth_year| INT| 4 digit year of birth\n",
    "|date_allowed_to| DATE| Date to which admitted to U.S. (allowed to stay until)\n",
    "|gender| VARCHAR| Non-immigrant sex\n",
    "|ins_number| VARCHAR| INS number\n",
    "|airline| VARCHAR| Airline used to arrive in U.S. \n",
    "|admission_number| FLOAT| Admission Number\n",
    "|flight_number| VARCHAR| Flight number of Airline used to arrive in U.S.\n",
    "|visa_type| VARCHAR|Class of admission legally admitting the non-immigrant to temporarily stay in U.S. "
   ]
  },
  {
   "cell_type": "markdown",
   "metadata": {},
   "source": [
    "## Countries Table\n",
    "\n",
    "| Columns        | Type         | Attributes \n",
    "| ------------- |:-------------:|:-------------:|\n",
    "|**country_id**| INT| Primary key, code for the country\n",
    "|country_name | VARCHAR | Name of the cpountry"
   ]
  },
  {
   "cell_type": "markdown",
   "metadata": {},
   "source": [
    "## Ports Table\n",
    "\n",
    "| Columns        | Type         | Attributes \n",
    "| ------------- |:-------------:|:-------------:|\n",
    "|**port_code**|  VARCHAR| Primary key, code for the port\n",
    "|port_name|  VARCHAR|  Name of the port"
   ]
  },
  {
   "cell_type": "markdown",
   "metadata": {},
   "source": [
    "## Arrival_Code Table\n",
    "\n",
    "| Columns        | Type         | Attributes \n",
    "| ------------- |:-------------:|:-------------:|\n",
    "|**arrival_code**|  INT | Primary key, code for the arrival mode\n",
    "|arrival_mode| VARCHAR | 1-Air, 2-Sea, 3-Land, or 9-Not reported   "
   ]
  },
  {
   "cell_type": "markdown",
   "metadata": {},
   "source": [
    "## States Table\n",
    "\n",
    "| Columns        | Type         | Attributes \n",
    "| ------------- |:-------------:|:-------------:|\n",
    "|**state_code**| VARCHAR| Primary key, code for the state\n",
    "|state_name| VARCHAR| Name of the state"
   ]
  },
  {
   "cell_type": "markdown",
   "metadata": {},
   "source": [
    "## Visa_Type Table\n",
    "\n",
    "| Columns        | Type         | Attributes \n",
    "| ------------- |:-------------:|:-------------:|\n",
    "|**visa_code**| INT|  Primary key, code for the visa type\n",
    "|visa_type | VARCHAR| 1-Business, 2-Pleasure, or 3-Student"
   ]
  },
  {
   "cell_type": "markdown",
   "metadata": {},
   "source": [
    "## Demographics Table\n",
    "\n",
    "| Columns        | Type         | Attributes \n",
    "| ------------- |:-------------:|:-------------:|\n",
    "|**city** |VARCHAR|  Primary key, city name \n",
    "|state |VARCHAR | State of the record\n",
    "|median_age| FLOAT| Median age of the population\n",
    "|male_population| INT| Males population in the city\n",
    "|female_population| INT| Females population in the city\n",
    "|total_population| INT| Total city population\n",
    "|number_of_veterans| INT| Total number of veterans in the city\n",
    "|foreign_born |INT| Total population of foreign born residents\n",
    "|average_household_size|FLOAT| Average number of residents per household\n",
    "|state_code |VARCHAR| State code of the record\n",
    "|race |VARCHAR| Race for the demographic statistic\n",
    "|count |INT    |Number of residens satisfying the relevant demographic"
   ]
  },
  {
   "cell_type": "markdown",
   "metadata": {},
   "source": [
    "## Airport_Codes Table\n",
    "\n",
    "| Columns        | Type         | Attributes \n",
    "| ------------- |:-------------:|:-------------:|\n",
    "|**ident** |VARCHAR| Primary key, identifier for the airport\n",
    "|type |VARCHAR| Type of airport\n",
    "|name |VARCHAR| Name of the airport\n",
    "|elevation_ft| FLOAT| Elevation of the airport in feet\n",
    "|continent |VARCHAR| Continent of the airport\n",
    "|iso_country |VARCHAR| Country which the airport is in\n",
    "|iso_region |VARCHAR| Region which the aiport is in\n",
    "|municipality| VARCHAR| Municipality of the airport\n",
    "|gps_code |VARCHAR| GPS code for the airport\n",
    "|iata_code| VARCHAR| IATA code of the airport\n",
    "|local_code| VARCHAR |Local code used for the airport\n",
    "|coordinates| VARCHAR|  Coordinates of the airport"
   ]
  }
 ],
 "metadata": {
  "kernelspec": {
   "display_name": "Python 3",
   "language": "python",
   "name": "python3"
  },
  "language_info": {
   "codemirror_mode": {
    "name": "ipython",
    "version": 3
   },
   "file_extension": ".py",
   "mimetype": "text/x-python",
   "name": "python",
   "nbconvert_exporter": "python",
   "pygments_lexer": "ipython3",
   "version": "3.6.3"
  }
 },
 "nbformat": 4,
 "nbformat_minor": 4
}
